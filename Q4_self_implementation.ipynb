{
 "cells": [
  {
   "cell_type": "code",
   "execution_count": 1,
   "id": "12f889ac",
   "metadata": {},
   "outputs": [],
   "source": [
    "import pandas as pd \n",
    "import matplotlib.pyplot as plt\n",
    "import numpy as np\n",
    "import datetime\n",
    "import torch\n",
    "import torch.nn as nn\n",
    "from torch.utils.data import TensorDataset, DataLoader"
   ]
  },
  {
   "cell_type": "code",
   "execution_count": 2,
   "id": "8889b8ab",
   "metadata": {},
   "outputs": [],
   "source": [
    "training_data = pd.read_csv(\"organized_data_training.csv\")"
   ]
  },
  {
   "cell_type": "code",
   "execution_count": 3,
   "id": "c3db1dbf",
   "metadata": {},
   "outputs": [],
   "source": [
    "training_data_array = training_data.values"
   ]
  },
  {
   "cell_type": "code",
   "execution_count": 4,
   "id": "3519e3cb",
   "metadata": {},
   "outputs": [],
   "source": [
    "train_x = training_data_array[:, 4:7]\n",
    "train_y = training_data_array[:,-1:]\n"
   ]
  },
  {
   "cell_type": "code",
   "execution_count": 5,
   "id": "4bb54a24",
   "metadata": {},
   "outputs": [],
   "source": [
    "# tt = train_x[:2]\n",
    "# print(tt)"
   ]
  },
  {
   "cell_type": "code",
   "execution_count": 6,
   "id": "960fb7b4",
   "metadata": {},
   "outputs": [],
   "source": [
    "# print(tt[0][0])"
   ]
  },
  {
   "cell_type": "code",
   "execution_count": 7,
   "id": "cc46e4af",
   "metadata": {},
   "outputs": [],
   "source": [
    "# w_temp = np.array([[1,1,1]])\n",
    "# ttt = w_temp @ tt.T\n",
    "# print(np.tanh(ttt))"
   ]
  },
  {
   "cell_type": "code",
   "execution_count": 8,
   "id": "79794425",
   "metadata": {},
   "outputs": [],
   "source": [
    "w_array = np.array([0,0,0])"
   ]
  },
  {
   "cell_type": "code",
   "execution_count": 9,
   "id": "d85ae2fe",
   "metadata": {},
   "outputs": [],
   "source": [
    "# print(train_x[0])"
   ]
  },
  {
   "cell_type": "code",
   "execution_count": 10,
   "id": "38e0f6b3",
   "metadata": {},
   "outputs": [],
   "source": [
    "# print(y_predict.shape)"
   ]
  },
  {
   "cell_type": "code",
   "execution_count": 11,
   "id": "a3c5e618",
   "metadata": {},
   "outputs": [],
   "source": [
    "# print(1 - y_predict[i]**2)"
   ]
  },
  {
   "cell_type": "code",
   "execution_count": 12,
   "id": "66a3d9a6",
   "metadata": {},
   "outputs": [],
   "source": [
    "# print((1) * (1 - y_predict[i]**2) * train_x[i][0])"
   ]
  },
  {
   "cell_type": "code",
   "execution_count": 13,
   "id": "560fca93",
   "metadata": {},
   "outputs": [],
   "source": [
    "# w_array = np.array([1,1,1])"
   ]
  },
  {
   "cell_type": "code",
   "execution_count": 14,
   "id": "0c999fd1",
   "metadata": {},
   "outputs": [],
   "source": [
    "# print(w_array.shape)"
   ]
  },
  {
   "cell_type": "code",
   "execution_count": 15,
   "id": "8a9d2683",
   "metadata": {},
   "outputs": [],
   "source": [
    "# print(np.dot(w_array,train_x[0].T))"
   ]
  },
  {
   "cell_type": "code",
   "execution_count": 16,
   "id": "5a7c416c",
   "metadata": {},
   "outputs": [],
   "source": [
    "# print(train_x[:2].T)"
   ]
  },
  {
   "cell_type": "code",
   "execution_count": 17,
   "id": "7d9466ba",
   "metadata": {},
   "outputs": [],
   "source": [
    "# print(w_array@(train_x[:2].T))"
   ]
  },
  {
   "cell_type": "code",
   "execution_count": 18,
   "id": "f327de57",
   "metadata": {},
   "outputs": [],
   "source": [
    "def forward(w_array, x_array):\n",
    "    temp = w_array @ x_array.T\n",
    "    tanh_array = np.tanh(temp)\n",
    "    return tanh_array"
   ]
  },
  {
   "cell_type": "code",
   "execution_count": 19,
   "id": "bed6d6c6",
   "metadata": {},
   "outputs": [],
   "source": [
    "def calculate_gradient_descent(y_predict,y_true,w_array,x_array):\n",
    "    gradients = []\n",
    "    term1 = 0\n",
    "    term2 = 0\n",
    "    term3 = 0\n",
    "    for i in range(len(y_predict)):\n",
    "        temp1 = float((y_predict[i] - y_true[i]) * (1 - y_predict[i]**2) * x_array[i][0])\n",
    "        temp2 = float((y_predict[i] - y_true[i]) * (1 - y_predict[i]**2) * x_array[i][1])\n",
    "        temp3 = float((y_predict[i] - y_true[i]) * (1 - y_predict[i]**2) * x_array[i][2])\n",
    "        term1 += temp1\n",
    "        term2 += temp2\n",
    "        term3 += temp3\n",
    "    gradients = np.array([term1,term2,term3])\n",
    "    return gradients"
   ]
  },
  {
   "cell_type": "code",
   "execution_count": 20,
   "id": "8a916f46",
   "metadata": {},
   "outputs": [],
   "source": [
    "def update_gradient(gradients, w_array, lr):\n",
    "    w_array = w_array - lr*gradients\n",
    "    return w_array"
   ]
  },
  {
   "cell_type": "code",
   "execution_count": 21,
   "id": "d05fbaea",
   "metadata": {},
   "outputs": [],
   "source": [
    "# y_predict = forward(w_array, train_x)\n",
    "# print(y_predict)"
   ]
  },
  {
   "cell_type": "code",
   "execution_count": 22,
   "id": "edead032",
   "metadata": {},
   "outputs": [
    {
     "name": "stdout",
     "output_type": "stream",
     "text": [
      "[ 0.08179755  0.0899231   0.09498796 ... -0.07222365 -0.07663649\n",
      " -0.08076924]\n"
     ]
    }
   ],
   "source": [
    "for i in range(3):\n",
    "    y_predict = forward(w_array, train_x)\n",
    "    gradients = calculate_gradient_descent(y_predict,train_y,w_array,train_x)\n",
    "    w_array = update_gradient(gradients, w_array, 0.0001)\n",
    "print(forward(w_array, train_x))"
   ]
  },
  {
   "cell_type": "code",
   "execution_count": null,
   "id": "ec329f42",
   "metadata": {},
   "outputs": [],
   "source": [
    "y_predict = forward(w_array, train_x)\n",
    "print(train_y - y_predict)"
   ]
  },
  {
   "cell_type": "code",
   "execution_count": null,
   "id": "8dad3dff",
   "metadata": {},
   "outputs": [],
   "source": []
  }
 ],
 "metadata": {
  "kernelspec": {
   "display_name": "Python 3 (ipykernel)",
   "language": "python",
   "name": "python3"
  },
  "language_info": {
   "codemirror_mode": {
    "name": "ipython",
    "version": 3
   },
   "file_extension": ".py",
   "mimetype": "text/x-python",
   "name": "python",
   "nbconvert_exporter": "python",
   "pygments_lexer": "ipython3",
   "version": "3.9.13"
  }
 },
 "nbformat": 4,
 "nbformat_minor": 5
}
