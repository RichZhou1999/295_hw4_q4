{
 "cells": [
  {
   "cell_type": "code",
   "execution_count": 1,
   "id": "2ab32864",
   "metadata": {},
   "outputs": [],
   "source": [
    "import pandas as pd \n",
    "import matplotlib.pyplot as plt\n",
    "import numpy as np\n",
    "import datetime\n",
    "import torch\n",
    "import torch.nn as nn\n",
    "from torch.utils.data import TensorDataset, DataLoader"
   ]
  },
  {
   "cell_type": "code",
   "execution_count": 2,
   "id": "ecb3d5c5",
   "metadata": {},
   "outputs": [],
   "source": [
    "training_data = pd.read_csv(\"organized_data_training.csv\")"
   ]
  },
  {
   "cell_type": "code",
   "execution_count": 4,
   "id": "cd33037e",
   "metadata": {},
   "outputs": [],
   "source": [
    "training_data_array = training_data.values"
   ]
  },
  {
   "cell_type": "code",
   "execution_count": 5,
   "id": "98eb0cd6",
   "metadata": {},
   "outputs": [],
   "source": [
    "train_x = training_data_array[:, 4:7]\n",
    "train_y = training_data_array[:,-1:]\n"
   ]
  },
  {
   "cell_type": "code",
   "execution_count": 6,
   "id": "73415bee",
   "metadata": {},
   "outputs": [
    {
     "name": "stdout",
     "output_type": "stream",
     "text": [
      "[[0.1142123  0.13279826 0.14818289]\n",
      " [0.13279826 0.14818289 0.15811366]]\n"
     ]
    }
   ],
   "source": [
    "# tt = train_x[:2]\n",
    "# print(tt)"
   ]
  },
  {
   "cell_type": "code",
   "execution_count": 17,
   "id": "bb4fb0e4",
   "metadata": {},
   "outputs": [
    {
     "name": "stdout",
     "output_type": "stream",
     "text": [
      "0.1142122992782194\n"
     ]
    }
   ],
   "source": [
    "# print(tt[0][0])"
   ]
  },
  {
   "cell_type": "code",
   "execution_count": 11,
   "id": "2fbf5e1e",
   "metadata": {},
   "outputs": [
    {
     "name": "stdout",
     "output_type": "stream",
     "text": [
      "[[0.3758288  0.41289385]]\n"
     ]
    }
   ],
   "source": [
    "# w_temp = np.array([[1,1,1]])\n",
    "# ttt = w_temp @ tt.T\n",
    "# print(np.tanh(ttt))"
   ]
  },
  {
   "cell_type": "code",
   "execution_count": 23,
   "id": "9168d0d7",
   "metadata": {},
   "outputs": [],
   "source": [
    "w_array = np.array([0,0,0])"
   ]
  },
  {
   "cell_type": "code",
   "execution_count": 19,
   "id": "93833c17",
   "metadata": {},
   "outputs": [],
   "source": [
    "def forward(w_array, x_array):\n",
    "    temp = w_array @ x_array.T\n",
    "    tanh_array = np.tanh(temp)\n",
    "    return tanh_array"
   ]
  },
  {
   "cell_type": "code",
   "execution_count": 36,
   "id": "0039eef6",
   "metadata": {},
   "outputs": [
    {
     "name": "stdout",
     "output_type": "stream",
     "text": [
      "[-0.11021443 -0.10942218 -0.10777201]\n"
     ]
    }
   ],
   "source": [
    "temp1 = (0 - 1) * (1 - np.tanh(w_array@train_x[0].T)) * train_x[i][0]\n",
    "print(temp1)"
   ]
  },
  {
   "cell_type": "code",
   "execution_count": 37,
   "id": "4a6ff976",
   "metadata": {},
   "outputs": [
    {
     "name": "stdout",
     "output_type": "stream",
     "text": [
      "[0.03501812 0.04196507 0.05644866]\n"
     ]
    }
   ],
   "source": [
    "print(w_array@train_x[0].T)"
   ]
  },
  {
   "cell_type": "code",
   "execution_count": 30,
   "id": "cc0d7b01",
   "metadata": {},
   "outputs": [],
   "source": [
    "def calculate_gradient_descent(y_predict,y_true,w_array,x_array):\n",
    "    gradients = []\n",
    "    term1 = 0\n",
    "    term2 = 0\n",
    "    term3 = 0\n",
    "    for i in range(len(y_predict)):\n",
    "        temp1 = (y_predict[i] - y_true[i]) * (1 - y_predict[i]**2) * x_array[i][0]\n",
    "        temp2 = (y_predict[i] - y_true[i]) * (1 - y_predict[i]**2) * x_array[i][1]\n",
    "        temp3 = (y_predict[i] - y_true[i]) * (1 - y_predict[i]**2) * x_array[i][2]\n",
    "        term1 += temp1\n",
    "        term2 += temp2\n",
    "        term3 += temp3\n",
    "    gradients = np.array([term1,term2,term3])\n",
    "    return gradients"
   ]
  },
  {
   "cell_type": "code",
   "execution_count": 31,
   "id": "57719c4f",
   "metadata": {},
   "outputs": [],
   "source": [
    "def update_gradient(gradients, w_array, lr):\n",
    "    w_array = w_array - lr*gradients\n",
    "    return w_array"
   ]
  },
  {
   "cell_type": "code",
   "execution_count": 32,
   "id": "e69a53a0",
   "metadata": {},
   "outputs": [],
   "source": [
    "# y_predict = forward(w_array, train_x)\n",
    "# print(y_predict)"
   ]
  },
  {
   "cell_type": "code",
   "execution_count": 33,
   "id": "5ee133f7",
   "metadata": {},
   "outputs": [
    {
     "ename": "ValueError",
     "evalue": "operands could not be broadcast together with shapes (196926,) (3,) ",
     "output_type": "error",
     "traceback": [
      "\u001b[0;31m---------------------------------------------------------------------------\u001b[0m",
      "\u001b[0;31mValueError\u001b[0m                                Traceback (most recent call last)",
      "\u001b[0;32m/var/folders/hd/7mhwbm312jd2fp_tb35yjgvc0000gn/T/ipykernel_3475/2840755134.py\u001b[0m in \u001b[0;36m<module>\u001b[0;34m\u001b[0m\n\u001b[1;32m      1\u001b[0m \u001b[0;32mfor\u001b[0m \u001b[0mi\u001b[0m \u001b[0;32min\u001b[0m \u001b[0mrange\u001b[0m\u001b[0;34m(\u001b[0m\u001b[0;36m3\u001b[0m\u001b[0;34m)\u001b[0m\u001b[0;34m:\u001b[0m\u001b[0;34m\u001b[0m\u001b[0;34m\u001b[0m\u001b[0m\n\u001b[1;32m      2\u001b[0m     \u001b[0my_predict\u001b[0m \u001b[0;34m=\u001b[0m \u001b[0mforward\u001b[0m\u001b[0;34m(\u001b[0m\u001b[0mw_array\u001b[0m\u001b[0;34m,\u001b[0m \u001b[0mtrain_x\u001b[0m\u001b[0;34m)\u001b[0m\u001b[0;34m\u001b[0m\u001b[0;34m\u001b[0m\u001b[0m\n\u001b[0;32m----> 3\u001b[0;31m     \u001b[0mgradients\u001b[0m \u001b[0;34m=\u001b[0m \u001b[0mcalculate_gradient_descent\u001b[0m\u001b[0;34m(\u001b[0m\u001b[0my_predict\u001b[0m\u001b[0;34m,\u001b[0m\u001b[0mtrain_y\u001b[0m\u001b[0;34m,\u001b[0m\u001b[0mw_array\u001b[0m\u001b[0;34m,\u001b[0m\u001b[0mtrain_x\u001b[0m\u001b[0;34m)\u001b[0m\u001b[0;34m\u001b[0m\u001b[0;34m\u001b[0m\u001b[0m\n\u001b[0m\u001b[1;32m      4\u001b[0m     \u001b[0mw_array\u001b[0m \u001b[0;34m=\u001b[0m \u001b[0mupdate_gradient\u001b[0m\u001b[0;34m(\u001b[0m\u001b[0mgradients\u001b[0m\u001b[0;34m,\u001b[0m \u001b[0mw_array\u001b[0m\u001b[0;34m,\u001b[0m \u001b[0;36m0.0001\u001b[0m\u001b[0;34m)\u001b[0m\u001b[0;34m\u001b[0m\u001b[0;34m\u001b[0m\u001b[0m\n\u001b[1;32m      5\u001b[0m \u001b[0mprint\u001b[0m\u001b[0;34m(\u001b[0m\u001b[0mforward\u001b[0m\u001b[0;34m(\u001b[0m\u001b[0mw_array\u001b[0m\u001b[0;34m,\u001b[0m \u001b[0mtrain_x\u001b[0m\u001b[0;34m)\u001b[0m\u001b[0;34m)\u001b[0m\u001b[0;34m\u001b[0m\u001b[0;34m\u001b[0m\u001b[0m\n",
      "\u001b[0;32m/var/folders/hd/7mhwbm312jd2fp_tb35yjgvc0000gn/T/ipykernel_3475/3749496776.py\u001b[0m in \u001b[0;36mcalculate_gradient_descent\u001b[0;34m(y_predict, y_true, w_array, x_array)\u001b[0m\n\u001b[1;32m      5\u001b[0m     \u001b[0mterm3\u001b[0m \u001b[0;34m=\u001b[0m \u001b[0;36m0\u001b[0m\u001b[0;34m\u001b[0m\u001b[0;34m\u001b[0m\u001b[0m\n\u001b[1;32m      6\u001b[0m     \u001b[0;32mfor\u001b[0m \u001b[0mi\u001b[0m \u001b[0;32min\u001b[0m \u001b[0mrange\u001b[0m\u001b[0;34m(\u001b[0m\u001b[0mlen\u001b[0m\u001b[0;34m(\u001b[0m\u001b[0my_predict\u001b[0m\u001b[0;34m)\u001b[0m\u001b[0;34m)\u001b[0m\u001b[0;34m:\u001b[0m\u001b[0;34m\u001b[0m\u001b[0;34m\u001b[0m\u001b[0m\n\u001b[0;32m----> 7\u001b[0;31m         \u001b[0mtemp1\u001b[0m \u001b[0;34m=\u001b[0m \u001b[0;34m(\u001b[0m\u001b[0my_predict\u001b[0m\u001b[0;34m[\u001b[0m\u001b[0mi\u001b[0m\u001b[0;34m]\u001b[0m \u001b[0;34m-\u001b[0m \u001b[0my_true\u001b[0m\u001b[0;34m[\u001b[0m\u001b[0mi\u001b[0m\u001b[0;34m]\u001b[0m\u001b[0;34m)\u001b[0m \u001b[0;34m*\u001b[0m \u001b[0;34m(\u001b[0m\u001b[0;36m1\u001b[0m \u001b[0;34m-\u001b[0m \u001b[0mnp\u001b[0m\u001b[0;34m.\u001b[0m\u001b[0mtanh\u001b[0m\u001b[0;34m(\u001b[0m\u001b[0mw_array\u001b[0m\u001b[0;34m@\u001b[0m\u001b[0mx_array\u001b[0m\u001b[0;34m[\u001b[0m\u001b[0mi\u001b[0m\u001b[0;34m]\u001b[0m\u001b[0;34m.\u001b[0m\u001b[0mT\u001b[0m\u001b[0;34m)\u001b[0m\u001b[0;34m)\u001b[0m \u001b[0;34m*\u001b[0m \u001b[0mx_array\u001b[0m\u001b[0;34m[\u001b[0m\u001b[0mi\u001b[0m\u001b[0;34m]\u001b[0m\u001b[0;34m[\u001b[0m\u001b[0;36m0\u001b[0m\u001b[0;34m]\u001b[0m\u001b[0;34m\u001b[0m\u001b[0;34m\u001b[0m\u001b[0m\n\u001b[0m\u001b[1;32m      8\u001b[0m         \u001b[0mtemp2\u001b[0m \u001b[0;34m=\u001b[0m \u001b[0;34m(\u001b[0m\u001b[0my_predict\u001b[0m\u001b[0;34m[\u001b[0m\u001b[0mi\u001b[0m\u001b[0;34m]\u001b[0m \u001b[0;34m-\u001b[0m \u001b[0my_true\u001b[0m\u001b[0;34m[\u001b[0m\u001b[0mi\u001b[0m\u001b[0;34m]\u001b[0m\u001b[0;34m)\u001b[0m \u001b[0;34m*\u001b[0m \u001b[0;34m(\u001b[0m\u001b[0;36m1\u001b[0m \u001b[0;34m-\u001b[0m \u001b[0mnp\u001b[0m\u001b[0;34m.\u001b[0m\u001b[0mtanh\u001b[0m\u001b[0;34m(\u001b[0m\u001b[0mw_array\u001b[0m\u001b[0;34m@\u001b[0m\u001b[0mx_array\u001b[0m\u001b[0;34m[\u001b[0m\u001b[0mi\u001b[0m\u001b[0;34m]\u001b[0m\u001b[0;34m.\u001b[0m\u001b[0mT\u001b[0m\u001b[0;34m)\u001b[0m\u001b[0;34m)\u001b[0m \u001b[0;34m*\u001b[0m \u001b[0mx_array\u001b[0m\u001b[0;34m[\u001b[0m\u001b[0mi\u001b[0m\u001b[0;34m]\u001b[0m\u001b[0;34m[\u001b[0m\u001b[0;36m1\u001b[0m\u001b[0;34m]\u001b[0m\u001b[0;34m\u001b[0m\u001b[0;34m\u001b[0m\u001b[0m\n\u001b[1;32m      9\u001b[0m         \u001b[0mtemp3\u001b[0m \u001b[0;34m=\u001b[0m \u001b[0;34m(\u001b[0m\u001b[0my_predict\u001b[0m\u001b[0;34m[\u001b[0m\u001b[0mi\u001b[0m\u001b[0;34m]\u001b[0m \u001b[0;34m-\u001b[0m \u001b[0my_true\u001b[0m\u001b[0;34m[\u001b[0m\u001b[0mi\u001b[0m\u001b[0;34m]\u001b[0m\u001b[0;34m)\u001b[0m \u001b[0;34m*\u001b[0m \u001b[0;34m(\u001b[0m\u001b[0;36m1\u001b[0m \u001b[0;34m-\u001b[0m \u001b[0mnp\u001b[0m\u001b[0;34m.\u001b[0m\u001b[0mtanh\u001b[0m\u001b[0;34m(\u001b[0m\u001b[0mw_array\u001b[0m\u001b[0;34m@\u001b[0m\u001b[0mx_array\u001b[0m\u001b[0;34m[\u001b[0m\u001b[0mi\u001b[0m\u001b[0;34m]\u001b[0m\u001b[0;34m.\u001b[0m\u001b[0mT\u001b[0m\u001b[0;34m)\u001b[0m\u001b[0;34m)\u001b[0m \u001b[0;34m*\u001b[0m \u001b[0mx_array\u001b[0m\u001b[0;34m[\u001b[0m\u001b[0mi\u001b[0m\u001b[0;34m]\u001b[0m\u001b[0;34m[\u001b[0m\u001b[0;36m2\u001b[0m\u001b[0;34m]\u001b[0m\u001b[0;34m\u001b[0m\u001b[0;34m\u001b[0m\u001b[0m\n",
      "\u001b[0;31mValueError\u001b[0m: operands could not be broadcast together with shapes (196926,) (3,) "
     ]
    }
   ],
   "source": [
    "for i in range(3):\n",
    "    y_predict = forward(w_array, train_x)\n",
    "    gradients = calculate_gradient_descent(y_predict,train_y,w_array,train_x)\n",
    "    w_array = update_gradient(gradients, w_array, 0.0001)\n",
    "print(forward(w_array, train_x))"
   ]
  },
  {
   "cell_type": "code",
   "execution_count": null,
   "id": "a0f7bf6b",
   "metadata": {},
   "outputs": [],
   "source": []
  }
 ],
 "metadata": {
  "kernelspec": {
   "display_name": "Python 3 (ipykernel)",
   "language": "python",
   "name": "python3"
  },
  "language_info": {
   "codemirror_mode": {
    "name": "ipython",
    "version": 3
   },
   "file_extension": ".py",
   "mimetype": "text/x-python",
   "name": "python",
   "nbconvert_exporter": "python",
   "pygments_lexer": "ipython3",
   "version": "3.9.13"
  }
 },
 "nbformat": 4,
 "nbformat_minor": 5
}
