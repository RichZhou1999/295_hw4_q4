{
 "cells": [
  {
   "cell_type": "code",
   "execution_count": 1,
   "id": "56b93c7e",
   "metadata": {},
   "outputs": [],
   "source": [
    "import pandas as pd \n",
    "import matplotlib.pyplot as plt\n",
    "import numpy as np\n",
    "import datetime\n",
    "import torch\n",
    "import torch.nn as nn\n",
    "from torch.utils.data import TensorDataset, DataLoader\n",
    "from sklearn.metrics import mean_squared_error"
   ]
  },
  {
   "cell_type": "code",
   "execution_count": 2,
   "id": "ff065eb1",
   "metadata": {},
   "outputs": [],
   "source": [
    "training_data = pd.read_csv(\"organized_data_training.csv\")"
   ]
  },
  {
   "cell_type": "code",
   "execution_count": 3,
   "id": "8b4f6fe3",
   "metadata": {},
   "outputs": [],
   "source": [
    "training_data_array = training_data.values"
   ]
  },
  {
   "cell_type": "code",
   "execution_count": 4,
   "id": "36d787c4",
   "metadata": {},
   "outputs": [],
   "source": [
    "train_x = training_data_array[:, 4:7]\n",
    "train_y = training_data_array[:,-1:]"
   ]
  },
  {
   "cell_type": "code",
   "execution_count": 5,
   "id": "8386c3f6",
   "metadata": {},
   "outputs": [],
   "source": [
    "# tt = train_x[:2]\n",
    "# print(tt)"
   ]
  },
  {
   "cell_type": "code",
   "execution_count": 6,
   "id": "dbd17e20",
   "metadata": {},
   "outputs": [],
   "source": [
    "# print(tt[0][0])"
   ]
  },
  {
   "cell_type": "code",
   "execution_count": 7,
   "id": "4a637b1f",
   "metadata": {},
   "outputs": [],
   "source": [
    "# w_temp = np.array([[1,1,1]])\n",
    "# ttt = w_temp @ tt.T\n",
    "# print(np.tanh(ttt))"
   ]
  },
  {
   "cell_type": "code",
   "execution_count": 8,
   "id": "80ec1069",
   "metadata": {},
   "outputs": [],
   "source": [
    "w_array = np.array([0,0,0])\n"
   ]
  },
  {
   "cell_type": "code",
   "execution_count": 9,
   "id": "1540bac1",
   "metadata": {},
   "outputs": [],
   "source": [
    "# print(train_x[0])"
   ]
  },
  {
   "cell_type": "code",
   "execution_count": 10,
   "id": "6442b13c",
   "metadata": {},
   "outputs": [],
   "source": [
    "# print(y_predict.shape)"
   ]
  },
  {
   "cell_type": "code",
   "execution_count": 11,
   "id": "1d50de45",
   "metadata": {},
   "outputs": [],
   "source": [
    "# print(1 - y_predict[i]**2)"
   ]
  },
  {
   "cell_type": "code",
   "execution_count": 12,
   "id": "b66ab4f0",
   "metadata": {},
   "outputs": [],
   "source": [
    "# print((1) * (1 - y_predict[i]**2) * train_x[i][0])"
   ]
  },
  {
   "cell_type": "code",
   "execution_count": 13,
   "id": "878ffc64",
   "metadata": {},
   "outputs": [],
   "source": [
    "# w_array = np.array([1,1,1])"
   ]
  },
  {
   "cell_type": "code",
   "execution_count": 14,
   "id": "326d1243",
   "metadata": {},
   "outputs": [],
   "source": [
    "# print(w_array.shape)"
   ]
  },
  {
   "cell_type": "code",
   "execution_count": 15,
   "id": "2129b475",
   "metadata": {},
   "outputs": [],
   "source": [
    "# print(np.dot(w_array,train_x[0].T))"
   ]
  },
  {
   "cell_type": "code",
   "execution_count": 16,
   "id": "5b8569c0",
   "metadata": {},
   "outputs": [],
   "source": [
    "# print(train_x[:2].T)"
   ]
  },
  {
   "cell_type": "code",
   "execution_count": 17,
   "id": "72ba9741",
   "metadata": {},
   "outputs": [],
   "source": [
    "# print(w_array@(train_x[:2].T))"
   ]
  },
  {
   "cell_type": "code",
   "execution_count": 18,
   "id": "5f54133a",
   "metadata": {},
   "outputs": [],
   "source": [
    "def forward(w_array, x_array):\n",
    "    temp = w_array @ x_array.T\n",
    "    tanh_array = np.tanh(temp)\n",
    "    return tanh_array"
   ]
  },
  {
   "cell_type": "code",
   "execution_count": 19,
   "id": "d9a2653e",
   "metadata": {},
   "outputs": [],
   "source": [
    "def calculate_gradient_descent(y_predict,y_true,w_array,x_array):\n",
    "    gradients = []\n",
    "    term1 = 0\n",
    "    term2 = 0\n",
    "    term3 = 0\n",
    "    for i in range(len(y_predict)):\n",
    "        temp1 = float((y_predict[i] - y_true[i]) * (1 - y_predict[i]**2) * x_array[i][0])\n",
    "        temp2 = float((y_predict[i] - y_true[i]) * (1 - y_predict[i]**2) * x_array[i][1])\n",
    "        temp3 = float((y_predict[i] - y_true[i]) * (1 - y_predict[i]**2) * x_array[i][2])\n",
    "        term1 += temp1\n",
    "        term2 += temp2\n",
    "        term3 += temp3\n",
    "    gradients = np.array([term1,term2,term3])\n",
    "    return gradients"
   ]
  },
  {
   "cell_type": "code",
   "execution_count": 20,
   "id": "e521f9e1",
   "metadata": {},
   "outputs": [],
   "source": [
    "def update_gradient(gradients, w_array, lr):\n",
    "    w_array = w_array - lr*gradients\n",
    "    return w_array"
   ]
  },
  {
   "cell_type": "code",
   "execution_count": 21,
   "id": "258f0226",
   "metadata": {},
   "outputs": [],
   "source": [
    "# y_predict = forward(w_array, train_x)\n",
    "# print(y_predict)"
   ]
  },
  {
   "cell_type": "code",
   "execution_count": 22,
   "id": "c78d8152",
   "metadata": {},
   "outputs": [
    {
     "name": "stdout",
     "output_type": "stream",
     "text": [
      "MSE: 0.011184211323846411\n",
      "MSE: 0.008108531508843815\n",
      "MSE: 0.007200051429030543\n",
      "MSE: 0.006882110372792572\n"
     ]
    }
   ],
   "source": [
    "for i in range(4):\n",
    "    y_predict = forward(w_array, train_x)\n",
    "    gradients = calculate_gradient_descent(y_predict,train_y,w_array,train_x)\n",
    "    w_array = update_gradient(gradients, w_array, 0.0001)\n",
    "    y_predict = y_predict.reshape(len(y_predict),1)\n",
    "    print(\"MSE:\", mean_squared_error(train_y, y_predict))"
   ]
  },
  {
   "cell_type": "code",
   "execution_count": 23,
   "id": "73d63063",
   "metadata": {},
   "outputs": [
    {
     "name": "stdout",
     "output_type": "stream",
     "text": [
      "(196926, 1)\n"
     ]
    }
   ],
   "source": [
    "y_predict =y_predict.reshape(len(y_predict),1)\n",
    "print(y_predict.shape)"
   ]
  },
  {
   "cell_type": "code",
   "execution_count": null,
   "id": "60fd1b66",
   "metadata": {},
   "outputs": [],
   "source": [
    "print(train_y-y_predict)"
   ]
  },
  {
   "cell_type": "code",
   "execution_count": 24,
   "id": "01dc5e03",
   "metadata": {},
   "outputs": [],
   "source": [
    "test_data = pd.read_csv(\"HW4_Test_Data.csv\")"
   ]
  },
  {
   "cell_type": "code",
   "execution_count": 25,
   "id": "fe995abb",
   "metadata": {},
   "outputs": [],
   "source": [
    "size = len(test_data)\n",
    "random_data = np.random.rand(size, 3)\n",
    "time_splited_data = pd.DataFrame(random_data, columns=[ 'day_of_week', 'hour_of_day',\"normalized_energy\"])\n",
    "for i in range(len(test_data)):\n",
    "    temp = test_data.loc[i]\n",
    "    date_string = temp[\"TestTime\"]\n",
    "    date_obj = datetime.datetime.strptime(date_string, '%m/%d/%y %H:%M')\n",
    "    day_of_week = date_obj.weekday()\n",
    "    hour_of_day = date_obj.hour\n",
    "    value = test_data.loc[i,\"TestBldg\"]\n",
    "    time_splited_data.loc[i] = [day_of_week,hour_of_day, value ]"
   ]
  },
  {
   "cell_type": "code",
   "execution_count": 26,
   "id": "13574dc9",
   "metadata": {},
   "outputs": [],
   "source": [
    "sorted_time_splited_data = time_splited_data.sort_values(by=['day_of_week', 'hour_of_day'], ascending=[True,True])"
   ]
  },
  {
   "cell_type": "code",
   "execution_count": 28,
   "id": "0e1d3e79",
   "metadata": {
    "scrolled": true
   },
   "outputs": [
    {
     "data": {
      "text/html": [
       "<div>\n",
       "<style scoped>\n",
       "    .dataframe tbody tr th:only-of-type {\n",
       "        vertical-align: middle;\n",
       "    }\n",
       "\n",
       "    .dataframe tbody tr th {\n",
       "        vertical-align: top;\n",
       "    }\n",
       "\n",
       "    .dataframe thead th {\n",
       "        text-align: right;\n",
       "    }\n",
       "</style>\n",
       "<table border=\"1\" class=\"dataframe\">\n",
       "  <thead>\n",
       "    <tr style=\"text-align: right;\">\n",
       "      <th></th>\n",
       "      <th>day_of_week</th>\n",
       "      <th>hour_of_day</th>\n",
       "      <th>normalized_energy</th>\n",
       "    </tr>\n",
       "  </thead>\n",
       "  <tbody>\n",
       "    <tr>\n",
       "      <th>0</th>\n",
       "      <td>0.0</td>\n",
       "      <td>0.0</td>\n",
       "      <td>0.188552</td>\n",
       "    </tr>\n",
       "    <tr>\n",
       "      <th>1</th>\n",
       "      <td>0.0</td>\n",
       "      <td>1.0</td>\n",
       "      <td>0.084175</td>\n",
       "    </tr>\n",
       "    <tr>\n",
       "      <th>2</th>\n",
       "      <td>0.0</td>\n",
       "      <td>2.0</td>\n",
       "      <td>0.057239</td>\n",
       "    </tr>\n",
       "    <tr>\n",
       "      <th>3</th>\n",
       "      <td>0.0</td>\n",
       "      <td>3.0</td>\n",
       "      <td>0.040404</td>\n",
       "    </tr>\n",
       "    <tr>\n",
       "      <th>4</th>\n",
       "      <td>0.0</td>\n",
       "      <td>4.0</td>\n",
       "      <td>0.040404</td>\n",
       "    </tr>\n",
       "    <tr>\n",
       "      <th>...</th>\n",
       "      <td>...</td>\n",
       "      <td>...</td>\n",
       "      <td>...</td>\n",
       "    </tr>\n",
       "    <tr>\n",
       "      <th>163</th>\n",
       "      <td>6.0</td>\n",
       "      <td>19.0</td>\n",
       "      <td>0.094276</td>\n",
       "    </tr>\n",
       "    <tr>\n",
       "      <th>164</th>\n",
       "      <td>6.0</td>\n",
       "      <td>20.0</td>\n",
       "      <td>0.151515</td>\n",
       "    </tr>\n",
       "    <tr>\n",
       "      <th>165</th>\n",
       "      <td>6.0</td>\n",
       "      <td>21.0</td>\n",
       "      <td>0.175084</td>\n",
       "    </tr>\n",
       "    <tr>\n",
       "      <th>166</th>\n",
       "      <td>6.0</td>\n",
       "      <td>22.0</td>\n",
       "      <td>0.151515</td>\n",
       "    </tr>\n",
       "    <tr>\n",
       "      <th>167</th>\n",
       "      <td>6.0</td>\n",
       "      <td>23.0</td>\n",
       "      <td>0.387205</td>\n",
       "    </tr>\n",
       "  </tbody>\n",
       "</table>\n",
       "<p>168 rows × 3 columns</p>\n",
       "</div>"
      ],
      "text/plain": [
       "     day_of_week  hour_of_day  normalized_energy\n",
       "0            0.0          0.0           0.188552\n",
       "1            0.0          1.0           0.084175\n",
       "2            0.0          2.0           0.057239\n",
       "3            0.0          3.0           0.040404\n",
       "4            0.0          4.0           0.040404\n",
       "..           ...          ...                ...\n",
       "163          6.0         19.0           0.094276\n",
       "164          6.0         20.0           0.151515\n",
       "165          6.0         21.0           0.175084\n",
       "166          6.0         22.0           0.151515\n",
       "167          6.0         23.0           0.387205\n",
       "\n",
       "[168 rows x 3 columns]"
      ]
     },
     "execution_count": 28,
     "metadata": {},
     "output_type": "execute_result"
    }
   ],
   "source": [
    "sorted_time_splited_data = sorted_time_splited_data.reset_index(drop=True)\n",
    "sorted_time_splited_data"
   ]
  },
  {
   "cell_type": "code",
   "execution_count": null,
   "id": "c9a22004",
   "metadata": {},
   "outputs": [],
   "source": []
  },
  {
   "cell_type": "code",
   "execution_count": 29,
   "id": "2063cf27",
   "metadata": {},
   "outputs": [],
   "source": [
    "average_energy = pd.Series([0 for i in range(len(sorted_time_splited_data))])\n",
    "sorted_time_splited_data = sorted_time_splited_data.assign(average_energy=average_energy)"
   ]
  },
  {
   "cell_type": "code",
   "execution_count": 30,
   "id": "1d198f72",
   "metadata": {},
   "outputs": [],
   "source": [
    "data = pd.read_csv(\"HW4_Train_Data.csv\")"
   ]
  },
  {
   "cell_type": "code",
   "execution_count": 31,
   "id": "0b9da92c",
   "metadata": {},
   "outputs": [
    {
     "name": "stdout",
     "output_type": "stream",
     "text": [
      "        Building_index  week_of_year  day_of_week  hour_of_day  \\\n",
      "0                  1.0           1.0          6.0          0.0   \n",
      "1                  2.0           1.0          6.0          0.0   \n",
      "2                  3.0           1.0          6.0          0.0   \n",
      "3                  4.0           1.0          6.0          0.0   \n",
      "4                  5.0           1.0          6.0          0.0   \n",
      "...                ...           ...          ...          ...   \n",
      "154219            15.0          52.0          5.0         23.0   \n",
      "154220            16.0          52.0          5.0         23.0   \n",
      "154221            17.0          52.0          5.0         23.0   \n",
      "154222            18.0          52.0          5.0         23.0   \n",
      "154223            19.0          52.0          5.0         23.0   \n",
      "\n",
      "        normalized_energy  \n",
      "0                0.234568  \n",
      "1                0.082343  \n",
      "2                0.021277  \n",
      "3                0.006536  \n",
      "4                0.393939  \n",
      "...                   ...  \n",
      "154219           0.000000  \n",
      "154220           0.017241  \n",
      "154221           0.038710  \n",
      "154222           0.220930  \n",
      "154223           0.006349  \n",
      "\n",
      "[154224 rows x 5 columns]\n"
     ]
    }
   ],
   "source": [
    "size = len(data) * 18\n",
    "random_data = np.random.rand(size, 5)\n",
    "\n",
    "# Create a pandas DataFrame from the numpy array\n",
    "organized_data = pd.DataFrame(random_data, columns=['Building_index', 'week_of_year', 'day_of_week', 'hour_of_day',\"normalized_energy\"])\n",
    "index = 0\n",
    "\n",
    "build_max_consumption = []\n",
    "for i in range(19):\n",
    "    if i == 5:\n",
    "        build_max_consumption.append(None)\n",
    "    if i != 5:\n",
    "        build_max_consumption.append(np.max(data[\"Bldg%d (kWh)\"%(i+1)]))\n",
    "\n",
    "for i in range(len(data)):\n",
    "    temp = data.loc[i]\n",
    "    date_string = temp[\"Start Time (GMT-0800,PST)\"]\n",
    "    date_obj = datetime.datetime.strptime(date_string, '%m/%d/%y %H:%M')\n",
    "    week_of_year = date_obj.isocalendar()[1]\n",
    "    day_of_week = date_obj.weekday()\n",
    "    hour_of_day = date_obj.hour\n",
    "    for j in range(19):\n",
    "        if j != 5:\n",
    "            value = temp[\"Bldg%d (kWh)\"%(j+1)] / build_max_consumption[j]\n",
    "            organized_data.loc[index] = [(j+1), week_of_year, day_of_week,hour_of_day, value ]\n",
    "            index += 1\n",
    "print(organized_data)"
   ]
  },
  {
   "cell_type": "code",
   "execution_count": 32,
   "id": "12afcd7d",
   "metadata": {},
   "outputs": [
    {
     "name": "stdout",
     "output_type": "stream",
     "text": [
      "day_of_week  hour_of_day\n",
      "0.0          0.0            0.114915\n",
      "             1.0            0.094641\n",
      "             2.0            0.081565\n",
      "             3.0            0.071879\n",
      "             4.0            0.073287\n",
      "                              ...   \n",
      "6.0          19.0           0.159804\n",
      "             20.0           0.174154\n",
      "             21.0           0.181300\n",
      "             22.0           0.162057\n",
      "             23.0           0.144639\n",
      "Name: normalized_energy, Length: 168, dtype: float64\n"
     ]
    }
   ],
   "source": [
    "grouped_by_hour = organized_data.groupby([\"day_of_week\",'hour_of_day'])['normalized_energy'].mean()\n",
    "print(grouped_by_hour)"
   ]
  },
  {
   "cell_type": "code",
   "execution_count": 33,
   "id": "beeedd62",
   "metadata": {},
   "outputs": [],
   "source": [
    "for i in range(len(sorted_time_splited_data)):\n",
    "    sorted_time_splited_data.loc[i,\"average_energy\"]=grouped_by_hour[sorted_time_splited_data.loc[i,\"day_of_week\"]][sorted_time_splited_data.loc[i,\"hour_of_day\"]]"
   ]
  },
  {
   "cell_type": "code",
   "execution_count": null,
   "id": "445d7215",
   "metadata": {},
   "outputs": [],
   "source": []
  },
  {
   "cell_type": "code",
   "execution_count": 34,
   "id": "c63b3586",
   "metadata": {},
   "outputs": [],
   "source": [
    "s1 = pd.Series([0, 0, 0])\n",
    "t_3 = pd.concat([s1, sorted_time_splited_data[\"normalized_energy\"][3:]])\n",
    "s1 = pd.Series([0, 0])\n",
    "t_2 = pd.concat([s1, sorted_time_splited_data[\"normalized_energy\"][2:]])\n",
    "s1 = pd.Series([0])\n",
    "t_1 = pd.concat([s1, sorted_time_splited_data[\"normalized_energy\"][1:]])\n"
   ]
  },
  {
   "cell_type": "code",
   "execution_count": 35,
   "id": "bcc4acb9",
   "metadata": {},
   "outputs": [],
   "source": [
    "sorted_time_splited_data = sorted_time_splited_data.assign(t_3=t_3)\n",
    "sorted_time_splited_data = sorted_time_splited_data.assign(t_2=t_2)\n",
    "sorted_time_splited_data = sorted_time_splited_data.assign(t_1=t_1)\n"
   ]
  },
  {
   "cell_type": "code",
   "execution_count": 36,
   "id": "9a7f01d6",
   "metadata": {},
   "outputs": [
    {
     "name": "stdout",
     "output_type": "stream",
     "text": [
      "168\n"
     ]
    }
   ],
   "source": [
    "print(len(sorted_time_splited_data))"
   ]
  },
  {
   "cell_type": "code",
   "execution_count": 39,
   "id": "32d20933",
   "metadata": {},
   "outputs": [],
   "source": [
    "sorted_time_splited_data = sorted_time_splited_data[3:]\n",
    "sorted_time_splited_data = sorted_time_splited_data.reset_index(drop=True)"
   ]
  },
  {
   "cell_type": "code",
   "execution_count": 40,
   "id": "9c7154c8",
   "metadata": {},
   "outputs": [],
   "source": [
    "sorted_time_splited_data[\"true_value\"] = sorted_time_splited_data[\"normalized_energy\"] - sorted_time_splited_data[\"average_energy\"]"
   ]
  },
  {
   "cell_type": "code",
   "execution_count": 41,
   "id": "575ee4c7",
   "metadata": {},
   "outputs": [
    {
     "data": {
      "text/html": [
       "<div>\n",
       "<style scoped>\n",
       "    .dataframe tbody tr th:only-of-type {\n",
       "        vertical-align: middle;\n",
       "    }\n",
       "\n",
       "    .dataframe tbody tr th {\n",
       "        vertical-align: top;\n",
       "    }\n",
       "\n",
       "    .dataframe thead th {\n",
       "        text-align: right;\n",
       "    }\n",
       "</style>\n",
       "<table border=\"1\" class=\"dataframe\">\n",
       "  <thead>\n",
       "    <tr style=\"text-align: right;\">\n",
       "      <th></th>\n",
       "      <th>day_of_week</th>\n",
       "      <th>hour_of_day</th>\n",
       "      <th>normalized_energy</th>\n",
       "      <th>average_energy</th>\n",
       "      <th>t_3</th>\n",
       "      <th>t_2</th>\n",
       "      <th>t_1</th>\n",
       "      <th>true_value</th>\n",
       "    </tr>\n",
       "  </thead>\n",
       "  <tbody>\n",
       "    <tr>\n",
       "      <th>0</th>\n",
       "      <td>0.0</td>\n",
       "      <td>3.0</td>\n",
       "      <td>0.040404</td>\n",
       "      <td>0.071879</td>\n",
       "      <td>0.040404</td>\n",
       "      <td>0.040404</td>\n",
       "      <td>0.040404</td>\n",
       "      <td>-0.031475</td>\n",
       "    </tr>\n",
       "    <tr>\n",
       "      <th>1</th>\n",
       "      <td>0.0</td>\n",
       "      <td>4.0</td>\n",
       "      <td>0.040404</td>\n",
       "      <td>0.073287</td>\n",
       "      <td>0.040404</td>\n",
       "      <td>0.040404</td>\n",
       "      <td>0.040404</td>\n",
       "      <td>-0.032883</td>\n",
       "    </tr>\n",
       "    <tr>\n",
       "      <th>2</th>\n",
       "      <td>0.0</td>\n",
       "      <td>5.0</td>\n",
       "      <td>0.067340</td>\n",
       "      <td>0.076234</td>\n",
       "      <td>0.067340</td>\n",
       "      <td>0.067340</td>\n",
       "      <td>0.067340</td>\n",
       "      <td>-0.008894</td>\n",
       "    </tr>\n",
       "    <tr>\n",
       "      <th>3</th>\n",
       "      <td>0.0</td>\n",
       "      <td>6.0</td>\n",
       "      <td>0.313131</td>\n",
       "      <td>0.109249</td>\n",
       "      <td>0.313131</td>\n",
       "      <td>0.313131</td>\n",
       "      <td>0.313131</td>\n",
       "      <td>0.203882</td>\n",
       "    </tr>\n",
       "    <tr>\n",
       "      <th>4</th>\n",
       "      <td>0.0</td>\n",
       "      <td>7.0</td>\n",
       "      <td>0.158249</td>\n",
       "      <td>0.108510</td>\n",
       "      <td>0.158249</td>\n",
       "      <td>0.158249</td>\n",
       "      <td>0.158249</td>\n",
       "      <td>0.049739</td>\n",
       "    </tr>\n",
       "    <tr>\n",
       "      <th>...</th>\n",
       "      <td>...</td>\n",
       "      <td>...</td>\n",
       "      <td>...</td>\n",
       "      <td>...</td>\n",
       "      <td>...</td>\n",
       "      <td>...</td>\n",
       "      <td>...</td>\n",
       "      <td>...</td>\n",
       "    </tr>\n",
       "    <tr>\n",
       "      <th>160</th>\n",
       "      <td>6.0</td>\n",
       "      <td>19.0</td>\n",
       "      <td>0.094276</td>\n",
       "      <td>0.159804</td>\n",
       "      <td>0.094276</td>\n",
       "      <td>0.094276</td>\n",
       "      <td>0.094276</td>\n",
       "      <td>-0.065528</td>\n",
       "    </tr>\n",
       "    <tr>\n",
       "      <th>161</th>\n",
       "      <td>6.0</td>\n",
       "      <td>20.0</td>\n",
       "      <td>0.151515</td>\n",
       "      <td>0.174154</td>\n",
       "      <td>0.151515</td>\n",
       "      <td>0.151515</td>\n",
       "      <td>0.151515</td>\n",
       "      <td>-0.022639</td>\n",
       "    </tr>\n",
       "    <tr>\n",
       "      <th>162</th>\n",
       "      <td>6.0</td>\n",
       "      <td>21.0</td>\n",
       "      <td>0.175084</td>\n",
       "      <td>0.181300</td>\n",
       "      <td>0.175084</td>\n",
       "      <td>0.175084</td>\n",
       "      <td>0.175084</td>\n",
       "      <td>-0.006216</td>\n",
       "    </tr>\n",
       "    <tr>\n",
       "      <th>163</th>\n",
       "      <td>6.0</td>\n",
       "      <td>22.0</td>\n",
       "      <td>0.151515</td>\n",
       "      <td>0.162057</td>\n",
       "      <td>0.151515</td>\n",
       "      <td>0.151515</td>\n",
       "      <td>0.151515</td>\n",
       "      <td>-0.010541</td>\n",
       "    </tr>\n",
       "    <tr>\n",
       "      <th>164</th>\n",
       "      <td>6.0</td>\n",
       "      <td>23.0</td>\n",
       "      <td>0.387205</td>\n",
       "      <td>0.144639</td>\n",
       "      <td>0.387205</td>\n",
       "      <td>0.387205</td>\n",
       "      <td>0.387205</td>\n",
       "      <td>0.242567</td>\n",
       "    </tr>\n",
       "  </tbody>\n",
       "</table>\n",
       "<p>165 rows × 8 columns</p>\n",
       "</div>"
      ],
      "text/plain": [
       "     day_of_week  hour_of_day  normalized_energy  average_energy       t_3  \\\n",
       "0            0.0          3.0           0.040404        0.071879  0.040404   \n",
       "1            0.0          4.0           0.040404        0.073287  0.040404   \n",
       "2            0.0          5.0           0.067340        0.076234  0.067340   \n",
       "3            0.0          6.0           0.313131        0.109249  0.313131   \n",
       "4            0.0          7.0           0.158249        0.108510  0.158249   \n",
       "..           ...          ...                ...             ...       ...   \n",
       "160          6.0         19.0           0.094276        0.159804  0.094276   \n",
       "161          6.0         20.0           0.151515        0.174154  0.151515   \n",
       "162          6.0         21.0           0.175084        0.181300  0.175084   \n",
       "163          6.0         22.0           0.151515        0.162057  0.151515   \n",
       "164          6.0         23.0           0.387205        0.144639  0.387205   \n",
       "\n",
       "          t_2       t_1  true_value  \n",
       "0    0.040404  0.040404   -0.031475  \n",
       "1    0.040404  0.040404   -0.032883  \n",
       "2    0.067340  0.067340   -0.008894  \n",
       "3    0.313131  0.313131    0.203882  \n",
       "4    0.158249  0.158249    0.049739  \n",
       "..        ...       ...         ...  \n",
       "160  0.094276  0.094276   -0.065528  \n",
       "161  0.151515  0.151515   -0.022639  \n",
       "162  0.175084  0.175084   -0.006216  \n",
       "163  0.151515  0.151515   -0.010541  \n",
       "164  0.387205  0.387205    0.242567  \n",
       "\n",
       "[165 rows x 8 columns]"
      ]
     },
     "execution_count": 41,
     "metadata": {},
     "output_type": "execute_result"
    }
   ],
   "source": [
    "sorted_time_splited_data"
   ]
  },
  {
   "cell_type": "code",
   "execution_count": 42,
   "id": "754ff1ce",
   "metadata": {},
   "outputs": [],
   "source": [
    "test_data_array = sorted_time_splited_data.values\n",
    "test_x = test_data_array[:, 4:7]\n",
    "test_y = test_data_array[:,-1:]"
   ]
  },
  {
   "cell_type": "code",
   "execution_count": 43,
   "id": "fb30c290",
   "metadata": {},
   "outputs": [],
   "source": [
    "y_predict_test = forward(w_array, test_x)\n"
   ]
  },
  {
   "cell_type": "code",
   "execution_count": 44,
   "id": "51e755d8",
   "metadata": {},
   "outputs": [
    {
     "name": "stdout",
     "output_type": "stream",
     "text": [
      "0.0057038339491440205\n"
     ]
    }
   ],
   "source": [
    "print(mean_squared_error(test_y, y_predict_test))"
   ]
  },
  {
   "cell_type": "code",
   "execution_count": 45,
   "id": "faf7fa56",
   "metadata": {},
   "outputs": [],
   "source": [
    "predict_energy = pd.Series(y_predict_test)\n",
    "sorted_time_splited_data = sorted_time_splited_data.assign(predict_energy=predict_energy)"
   ]
  },
  {
   "cell_type": "code",
   "execution_count": 46,
   "id": "ea39d544",
   "metadata": {},
   "outputs": [
    {
     "data": {
      "text/html": [
       "<div>\n",
       "<style scoped>\n",
       "    .dataframe tbody tr th:only-of-type {\n",
       "        vertical-align: middle;\n",
       "    }\n",
       "\n",
       "    .dataframe tbody tr th {\n",
       "        vertical-align: top;\n",
       "    }\n",
       "\n",
       "    .dataframe thead th {\n",
       "        text-align: right;\n",
       "    }\n",
       "</style>\n",
       "<table border=\"1\" class=\"dataframe\">\n",
       "  <thead>\n",
       "    <tr style=\"text-align: right;\">\n",
       "      <th></th>\n",
       "      <th>day_of_week</th>\n",
       "      <th>hour_of_day</th>\n",
       "      <th>normalized_energy</th>\n",
       "      <th>average_energy</th>\n",
       "      <th>t_3</th>\n",
       "      <th>t_2</th>\n",
       "      <th>t_1</th>\n",
       "      <th>true_value</th>\n",
       "      <th>predict_energy</th>\n",
       "    </tr>\n",
       "  </thead>\n",
       "  <tbody>\n",
       "    <tr>\n",
       "      <th>0</th>\n",
       "      <td>0.0</td>\n",
       "      <td>3.0</td>\n",
       "      <td>0.040404</td>\n",
       "      <td>0.071879</td>\n",
       "      <td>0.040404</td>\n",
       "      <td>0.040404</td>\n",
       "      <td>0.040404</td>\n",
       "      <td>-0.031475</td>\n",
       "      <td>0.026380</td>\n",
       "    </tr>\n",
       "    <tr>\n",
       "      <th>1</th>\n",
       "      <td>0.0</td>\n",
       "      <td>4.0</td>\n",
       "      <td>0.040404</td>\n",
       "      <td>0.073287</td>\n",
       "      <td>0.040404</td>\n",
       "      <td>0.040404</td>\n",
       "      <td>0.040404</td>\n",
       "      <td>-0.032883</td>\n",
       "      <td>0.026380</td>\n",
       "    </tr>\n",
       "    <tr>\n",
       "      <th>2</th>\n",
       "      <td>0.0</td>\n",
       "      <td>5.0</td>\n",
       "      <td>0.067340</td>\n",
       "      <td>0.076234</td>\n",
       "      <td>0.067340</td>\n",
       "      <td>0.067340</td>\n",
       "      <td>0.067340</td>\n",
       "      <td>-0.008894</td>\n",
       "      <td>0.043949</td>\n",
       "    </tr>\n",
       "    <tr>\n",
       "      <th>3</th>\n",
       "      <td>0.0</td>\n",
       "      <td>6.0</td>\n",
       "      <td>0.313131</td>\n",
       "      <td>0.109249</td>\n",
       "      <td>0.313131</td>\n",
       "      <td>0.313131</td>\n",
       "      <td>0.313131</td>\n",
       "      <td>0.203882</td>\n",
       "      <td>0.201692</td>\n",
       "    </tr>\n",
       "    <tr>\n",
       "      <th>4</th>\n",
       "      <td>0.0</td>\n",
       "      <td>7.0</td>\n",
       "      <td>0.158249</td>\n",
       "      <td>0.108510</td>\n",
       "      <td>0.158249</td>\n",
       "      <td>0.158249</td>\n",
       "      <td>0.158249</td>\n",
       "      <td>0.049739</td>\n",
       "      <td>0.102981</td>\n",
       "    </tr>\n",
       "    <tr>\n",
       "      <th>...</th>\n",
       "      <td>...</td>\n",
       "      <td>...</td>\n",
       "      <td>...</td>\n",
       "      <td>...</td>\n",
       "      <td>...</td>\n",
       "      <td>...</td>\n",
       "      <td>...</td>\n",
       "      <td>...</td>\n",
       "      <td>...</td>\n",
       "    </tr>\n",
       "    <tr>\n",
       "      <th>160</th>\n",
       "      <td>6.0</td>\n",
       "      <td>19.0</td>\n",
       "      <td>0.094276</td>\n",
       "      <td>0.159804</td>\n",
       "      <td>0.094276</td>\n",
       "      <td>0.094276</td>\n",
       "      <td>0.094276</td>\n",
       "      <td>-0.065528</td>\n",
       "      <td>0.061491</td>\n",
       "    </tr>\n",
       "    <tr>\n",
       "      <th>161</th>\n",
       "      <td>6.0</td>\n",
       "      <td>20.0</td>\n",
       "      <td>0.151515</td>\n",
       "      <td>0.174154</td>\n",
       "      <td>0.151515</td>\n",
       "      <td>0.151515</td>\n",
       "      <td>0.151515</td>\n",
       "      <td>-0.022639</td>\n",
       "      <td>0.098628</td>\n",
       "    </tr>\n",
       "    <tr>\n",
       "      <th>162</th>\n",
       "      <td>6.0</td>\n",
       "      <td>21.0</td>\n",
       "      <td>0.175084</td>\n",
       "      <td>0.181300</td>\n",
       "      <td>0.175084</td>\n",
       "      <td>0.175084</td>\n",
       "      <td>0.175084</td>\n",
       "      <td>-0.006216</td>\n",
       "      <td>0.113846</td>\n",
       "    </tr>\n",
       "    <tr>\n",
       "      <th>163</th>\n",
       "      <td>6.0</td>\n",
       "      <td>22.0</td>\n",
       "      <td>0.151515</td>\n",
       "      <td>0.162057</td>\n",
       "      <td>0.151515</td>\n",
       "      <td>0.151515</td>\n",
       "      <td>0.151515</td>\n",
       "      <td>-0.010541</td>\n",
       "      <td>0.098628</td>\n",
       "    </tr>\n",
       "    <tr>\n",
       "      <th>164</th>\n",
       "      <td>6.0</td>\n",
       "      <td>23.0</td>\n",
       "      <td>0.387205</td>\n",
       "      <td>0.144639</td>\n",
       "      <td>0.387205</td>\n",
       "      <td>0.387205</td>\n",
       "      <td>0.387205</td>\n",
       "      <td>0.242567</td>\n",
       "      <td>0.247615</td>\n",
       "    </tr>\n",
       "  </tbody>\n",
       "</table>\n",
       "<p>165 rows × 9 columns</p>\n",
       "</div>"
      ],
      "text/plain": [
       "     day_of_week  hour_of_day  normalized_energy  average_energy       t_3  \\\n",
       "0            0.0          3.0           0.040404        0.071879  0.040404   \n",
       "1            0.0          4.0           0.040404        0.073287  0.040404   \n",
       "2            0.0          5.0           0.067340        0.076234  0.067340   \n",
       "3            0.0          6.0           0.313131        0.109249  0.313131   \n",
       "4            0.0          7.0           0.158249        0.108510  0.158249   \n",
       "..           ...          ...                ...             ...       ...   \n",
       "160          6.0         19.0           0.094276        0.159804  0.094276   \n",
       "161          6.0         20.0           0.151515        0.174154  0.151515   \n",
       "162          6.0         21.0           0.175084        0.181300  0.175084   \n",
       "163          6.0         22.0           0.151515        0.162057  0.151515   \n",
       "164          6.0         23.0           0.387205        0.144639  0.387205   \n",
       "\n",
       "          t_2       t_1  true_value  predict_energy  \n",
       "0    0.040404  0.040404   -0.031475        0.026380  \n",
       "1    0.040404  0.040404   -0.032883        0.026380  \n",
       "2    0.067340  0.067340   -0.008894        0.043949  \n",
       "3    0.313131  0.313131    0.203882        0.201692  \n",
       "4    0.158249  0.158249    0.049739        0.102981  \n",
       "..        ...       ...         ...             ...  \n",
       "160  0.094276  0.094276   -0.065528        0.061491  \n",
       "161  0.151515  0.151515   -0.022639        0.098628  \n",
       "162  0.175084  0.175084   -0.006216        0.113846  \n",
       "163  0.151515  0.151515   -0.010541        0.098628  \n",
       "164  0.387205  0.387205    0.242567        0.247615  \n",
       "\n",
       "[165 rows x 9 columns]"
      ]
     },
     "execution_count": 46,
     "metadata": {},
     "output_type": "execute_result"
    }
   ],
   "source": [
    "sorted_time_splited_data"
   ]
  },
  {
   "cell_type": "code",
   "execution_count": null,
   "id": "5ec2d762",
   "metadata": {},
   "outputs": [],
   "source": [
    "for i in range(7):\n",
    "    plt.figure()\n",
    "    x = [i for i in range(24)]\n",
    "    y_true_show = sorted_time_splited_data[sorted_time_splited_data['day_of_week'] == i]['normalized_energy']\n",
    "    y_prediction_show = sorted_time_splited_data[sorted_time_splited_data['day_of_week'] == i]['average_energy'] + sorted_time_splited_data[sorted_time_splited_data['day_of_week'] == i]['predict_energy']\n",
    "    y_average = grouped_by_hour[i]\n",
    "    plt.plot(x, y_true_show)\n",
    "    plt.plot(x, y_prediction_show)\n",
    "    plt.plot(x, y_average)"
   ]
  }
 ],
 "metadata": {
  "kernelspec": {
   "display_name": "Python 3 (ipykernel)",
   "language": "python",
   "name": "python3"
  },
  "language_info": {
   "codemirror_mode": {
    "name": "ipython",
    "version": 3
   },
   "file_extension": ".py",
   "mimetype": "text/x-python",
   "name": "python",
   "nbconvert_exporter": "python",
   "pygments_lexer": "ipython3",
   "version": "3.9.13"
  }
 },
 "nbformat": 4,
 "nbformat_minor": 5
}
