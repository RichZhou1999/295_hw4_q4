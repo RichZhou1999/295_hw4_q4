{
 "cells": [
  {
   "cell_type": "code",
   "execution_count": 12,
   "id": "8b0789ff",
   "metadata": {},
   "outputs": [],
   "source": [
    "import pandas as pd \n",
    "import matplotlib.pyplot as plt\n",
    "import numpy as np\n",
    "import datetime\n",
    "from sklearn.metrics import mean_squared_error\n",
    "from sklearn.linear_model import LinearRegression"
   ]
  },
  {
   "cell_type": "code",
   "execution_count": 13,
   "id": "aac48850",
   "metadata": {},
   "outputs": [],
   "source": [
    "training_data = pd.read_csv(\"organized_data_training.csv\")"
   ]
  },
  {
   "cell_type": "code",
   "execution_count": 14,
   "id": "94f77e65",
   "metadata": {},
   "outputs": [],
   "source": [
    "training_data_array = training_data.values"
   ]
  },
  {
   "cell_type": "code",
   "execution_count": 15,
   "id": "f2dc6024",
   "metadata": {},
   "outputs": [],
   "source": [
    "train_x = training_data_array[:, 4:7]\n",
    "train_y = training_data_array[:,-1:]"
   ]
  },
  {
   "cell_type": "code",
   "execution_count": 16,
   "id": "1d998f8e",
   "metadata": {},
   "outputs": [],
   "source": [
    "model = LinearRegression(fit_intercept=False)"
   ]
  },
  {
   "cell_type": "code",
   "execution_count": 17,
   "id": "95ce8a63",
   "metadata": {},
   "outputs": [
    {
     "data": {
      "text/plain": [
       "LinearRegression(fit_intercept=False)"
      ]
     },
     "execution_count": 17,
     "metadata": {},
     "output_type": "execute_result"
    }
   ],
   "source": [
    "model.fit(train_x, train_y)"
   ]
  },
  {
   "cell_type": "code",
   "execution_count": 18,
   "id": "e331192b",
   "metadata": {},
   "outputs": [
    {
     "name": "stdout",
     "output_type": "stream",
     "text": [
      "Slope: [[0.09415064 0.05134695 0.56988423]]\n"
     ]
    }
   ],
   "source": [
    "print(\"Slope:\", model.coef_)"
   ]
  },
  {
   "cell_type": "code",
   "execution_count": 19,
   "id": "7c3377e2",
   "metadata": {},
   "outputs": [],
   "source": [
    "test_data = pd.read_csv(\"organized_data_test.csv\")"
   ]
  },
  {
   "cell_type": "code",
   "execution_count": 20,
   "id": "64cf30d0",
   "metadata": {},
   "outputs": [],
   "source": [
    "test_data_array = test_data.values"
   ]
  },
  {
   "cell_type": "code",
   "execution_count": 21,
   "id": "8a4c5ff3",
   "metadata": {},
   "outputs": [],
   "source": [
    "test_x = test_data_array[:, 4:7]\n",
    "test_y = test_data_array[:,-1:]"
   ]
  },
  {
   "cell_type": "code",
   "execution_count": 22,
   "id": "1d9c17d6",
   "metadata": {},
   "outputs": [],
   "source": [
    "predicted_y = model.predict(test_x)"
   ]
  },
  {
   "cell_type": "code",
   "execution_count": 23,
   "id": "4113c2ef",
   "metadata": {},
   "outputs": [],
   "source": [
    "MAE = mean_squared_error(predicted_y,test_y)"
   ]
  },
  {
   "cell_type": "code",
   "execution_count": 24,
   "id": "5d3d239d",
   "metadata": {},
   "outputs": [
    {
     "data": {
      "text/plain": [
       "0.006357934818533983"
      ]
     },
     "execution_count": 24,
     "metadata": {},
     "output_type": "execute_result"
    }
   ],
   "source": [
    "MAE"
   ]
  },
  {
   "cell_type": "code",
   "execution_count": 30,
   "id": "771bbfd2",
   "metadata": {},
   "outputs": [],
   "source": [
    "predicted_y = predicted_y.reshape(len(predicted_y))"
   ]
  },
  {
   "cell_type": "code",
   "execution_count": 31,
   "id": "198fac79",
   "metadata": {},
   "outputs": [],
   "source": [
    "ARX_predict_value = pd.Series(predicted_y)\n",
    "test_data = test_data.assign(ARX_predict_value=ARX_predict_value)"
   ]
  },
  {
   "cell_type": "code",
   "execution_count": 32,
   "id": "627677dc",
   "metadata": {},
   "outputs": [
    {
     "data": {
      "text/html": [
       "<div>\n",
       "<style scoped>\n",
       "    .dataframe tbody tr th:only-of-type {\n",
       "        vertical-align: middle;\n",
       "    }\n",
       "\n",
       "    .dataframe tbody tr th {\n",
       "        vertical-align: top;\n",
       "    }\n",
       "\n",
       "    .dataframe thead th {\n",
       "        text-align: right;\n",
       "    }\n",
       "</style>\n",
       "<table border=\"1\" class=\"dataframe\">\n",
       "  <thead>\n",
       "    <tr style=\"text-align: right;\">\n",
       "      <th></th>\n",
       "      <th>day_of_week</th>\n",
       "      <th>hour_of_day</th>\n",
       "      <th>normalized_energy</th>\n",
       "      <th>average_energy</th>\n",
       "      <th>t_3</th>\n",
       "      <th>t_2</th>\n",
       "      <th>t_1</th>\n",
       "      <th>true_value</th>\n",
       "      <th>ARX_predict_value</th>\n",
       "    </tr>\n",
       "  </thead>\n",
       "  <tbody>\n",
       "    <tr>\n",
       "      <th>0</th>\n",
       "      <td>0.0</td>\n",
       "      <td>3.0</td>\n",
       "      <td>0.040404</td>\n",
       "      <td>0.071879</td>\n",
       "      <td>0.040404</td>\n",
       "      <td>0.040404</td>\n",
       "      <td>0.040404</td>\n",
       "      <td>-0.031475</td>\n",
       "      <td>0.028904</td>\n",
       "    </tr>\n",
       "    <tr>\n",
       "      <th>1</th>\n",
       "      <td>0.0</td>\n",
       "      <td>4.0</td>\n",
       "      <td>0.040404</td>\n",
       "      <td>0.073287</td>\n",
       "      <td>0.040404</td>\n",
       "      <td>0.040404</td>\n",
       "      <td>0.040404</td>\n",
       "      <td>-0.032883</td>\n",
       "      <td>0.028904</td>\n",
       "    </tr>\n",
       "    <tr>\n",
       "      <th>2</th>\n",
       "      <td>0.0</td>\n",
       "      <td>5.0</td>\n",
       "      <td>0.067340</td>\n",
       "      <td>0.076234</td>\n",
       "      <td>0.067340</td>\n",
       "      <td>0.067340</td>\n",
       "      <td>0.067340</td>\n",
       "      <td>-0.008894</td>\n",
       "      <td>0.048174</td>\n",
       "    </tr>\n",
       "    <tr>\n",
       "      <th>3</th>\n",
       "      <td>0.0</td>\n",
       "      <td>6.0</td>\n",
       "      <td>0.313131</td>\n",
       "      <td>0.109249</td>\n",
       "      <td>0.313131</td>\n",
       "      <td>0.313131</td>\n",
       "      <td>0.313131</td>\n",
       "      <td>0.203882</td>\n",
       "      <td>0.224008</td>\n",
       "    </tr>\n",
       "    <tr>\n",
       "      <th>4</th>\n",
       "      <td>0.0</td>\n",
       "      <td>7.0</td>\n",
       "      <td>0.158249</td>\n",
       "      <td>0.108510</td>\n",
       "      <td>0.158249</td>\n",
       "      <td>0.158249</td>\n",
       "      <td>0.158249</td>\n",
       "      <td>0.049739</td>\n",
       "      <td>0.113209</td>\n",
       "    </tr>\n",
       "    <tr>\n",
       "      <th>...</th>\n",
       "      <td>...</td>\n",
       "      <td>...</td>\n",
       "      <td>...</td>\n",
       "      <td>...</td>\n",
       "      <td>...</td>\n",
       "      <td>...</td>\n",
       "      <td>...</td>\n",
       "      <td>...</td>\n",
       "      <td>...</td>\n",
       "    </tr>\n",
       "    <tr>\n",
       "      <th>160</th>\n",
       "      <td>6.0</td>\n",
       "      <td>19.0</td>\n",
       "      <td>0.094276</td>\n",
       "      <td>0.159804</td>\n",
       "      <td>0.094276</td>\n",
       "      <td>0.094276</td>\n",
       "      <td>0.094276</td>\n",
       "      <td>-0.065528</td>\n",
       "      <td>0.067443</td>\n",
       "    </tr>\n",
       "    <tr>\n",
       "      <th>161</th>\n",
       "      <td>6.0</td>\n",
       "      <td>20.0</td>\n",
       "      <td>0.151515</td>\n",
       "      <td>0.174154</td>\n",
       "      <td>0.151515</td>\n",
       "      <td>0.151515</td>\n",
       "      <td>0.151515</td>\n",
       "      <td>-0.022639</td>\n",
       "      <td>0.108391</td>\n",
       "    </tr>\n",
       "    <tr>\n",
       "      <th>162</th>\n",
       "      <td>6.0</td>\n",
       "      <td>21.0</td>\n",
       "      <td>0.175084</td>\n",
       "      <td>0.181300</td>\n",
       "      <td>0.175084</td>\n",
       "      <td>0.175084</td>\n",
       "      <td>0.175084</td>\n",
       "      <td>-0.006216</td>\n",
       "      <td>0.125252</td>\n",
       "    </tr>\n",
       "    <tr>\n",
       "      <th>163</th>\n",
       "      <td>6.0</td>\n",
       "      <td>22.0</td>\n",
       "      <td>0.151515</td>\n",
       "      <td>0.162057</td>\n",
       "      <td>0.151515</td>\n",
       "      <td>0.151515</td>\n",
       "      <td>0.151515</td>\n",
       "      <td>-0.010541</td>\n",
       "      <td>0.108391</td>\n",
       "    </tr>\n",
       "    <tr>\n",
       "      <th>164</th>\n",
       "      <td>6.0</td>\n",
       "      <td>23.0</td>\n",
       "      <td>0.387205</td>\n",
       "      <td>0.144639</td>\n",
       "      <td>0.387205</td>\n",
       "      <td>0.387205</td>\n",
       "      <td>0.387205</td>\n",
       "      <td>0.242567</td>\n",
       "      <td>0.277000</td>\n",
       "    </tr>\n",
       "  </tbody>\n",
       "</table>\n",
       "<p>165 rows × 9 columns</p>\n",
       "</div>"
      ],
      "text/plain": [
       "     day_of_week  hour_of_day  normalized_energy  average_energy       t_3  \\\n",
       "0            0.0          3.0           0.040404        0.071879  0.040404   \n",
       "1            0.0          4.0           0.040404        0.073287  0.040404   \n",
       "2            0.0          5.0           0.067340        0.076234  0.067340   \n",
       "3            0.0          6.0           0.313131        0.109249  0.313131   \n",
       "4            0.0          7.0           0.158249        0.108510  0.158249   \n",
       "..           ...          ...                ...             ...       ...   \n",
       "160          6.0         19.0           0.094276        0.159804  0.094276   \n",
       "161          6.0         20.0           0.151515        0.174154  0.151515   \n",
       "162          6.0         21.0           0.175084        0.181300  0.175084   \n",
       "163          6.0         22.0           0.151515        0.162057  0.151515   \n",
       "164          6.0         23.0           0.387205        0.144639  0.387205   \n",
       "\n",
       "          t_2       t_1  true_value  ARX_predict_value  \n",
       "0    0.040404  0.040404   -0.031475           0.028904  \n",
       "1    0.040404  0.040404   -0.032883           0.028904  \n",
       "2    0.067340  0.067340   -0.008894           0.048174  \n",
       "3    0.313131  0.313131    0.203882           0.224008  \n",
       "4    0.158249  0.158249    0.049739           0.113209  \n",
       "..        ...       ...         ...                ...  \n",
       "160  0.094276  0.094276   -0.065528           0.067443  \n",
       "161  0.151515  0.151515   -0.022639           0.108391  \n",
       "162  0.175084  0.175084   -0.006216           0.125252  \n",
       "163  0.151515  0.151515   -0.010541           0.108391  \n",
       "164  0.387205  0.387205    0.242567           0.277000  \n",
       "\n",
       "[165 rows x 9 columns]"
      ]
     },
     "execution_count": 32,
     "metadata": {},
     "output_type": "execute_result"
    }
   ],
   "source": [
    "test_data"
   ]
  },
  {
   "cell_type": "code",
   "execution_count": 34,
   "id": "199bddcd",
   "metadata": {},
   "outputs": [],
   "source": [
    "grouped_by_hour = pd.read_csv(\"grouped_by_hour.csv\")"
   ]
  },
  {
   "cell_type": "code",
   "execution_count": 35,
   "id": "a643c43f",
   "metadata": {},
   "outputs": [
    {
     "data": {
      "text/html": [
       "<div>\n",
       "<style scoped>\n",
       "    .dataframe tbody tr th:only-of-type {\n",
       "        vertical-align: middle;\n",
       "    }\n",
       "\n",
       "    .dataframe tbody tr th {\n",
       "        vertical-align: top;\n",
       "    }\n",
       "\n",
       "    .dataframe thead th {\n",
       "        text-align: right;\n",
       "    }\n",
       "</style>\n",
       "<table border=\"1\" class=\"dataframe\">\n",
       "  <thead>\n",
       "    <tr style=\"text-align: right;\">\n",
       "      <th></th>\n",
       "      <th>normalized_energy</th>\n",
       "    </tr>\n",
       "  </thead>\n",
       "  <tbody>\n",
       "    <tr>\n",
       "      <th>0</th>\n",
       "      <td>0.114915</td>\n",
       "    </tr>\n",
       "    <tr>\n",
       "      <th>1</th>\n",
       "      <td>0.094641</td>\n",
       "    </tr>\n",
       "    <tr>\n",
       "      <th>2</th>\n",
       "      <td>0.081565</td>\n",
       "    </tr>\n",
       "    <tr>\n",
       "      <th>3</th>\n",
       "      <td>0.071879</td>\n",
       "    </tr>\n",
       "    <tr>\n",
       "      <th>4</th>\n",
       "      <td>0.073287</td>\n",
       "    </tr>\n",
       "    <tr>\n",
       "      <th>...</th>\n",
       "      <td>...</td>\n",
       "    </tr>\n",
       "    <tr>\n",
       "      <th>163</th>\n",
       "      <td>0.159804</td>\n",
       "    </tr>\n",
       "    <tr>\n",
       "      <th>164</th>\n",
       "      <td>0.174154</td>\n",
       "    </tr>\n",
       "    <tr>\n",
       "      <th>165</th>\n",
       "      <td>0.181300</td>\n",
       "    </tr>\n",
       "    <tr>\n",
       "      <th>166</th>\n",
       "      <td>0.162057</td>\n",
       "    </tr>\n",
       "    <tr>\n",
       "      <th>167</th>\n",
       "      <td>0.144639</td>\n",
       "    </tr>\n",
       "  </tbody>\n",
       "</table>\n",
       "<p>168 rows × 1 columns</p>\n",
       "</div>"
      ],
      "text/plain": [
       "     normalized_energy\n",
       "0             0.114915\n",
       "1             0.094641\n",
       "2             0.081565\n",
       "3             0.071879\n",
       "4             0.073287\n",
       "..                 ...\n",
       "163           0.159804\n",
       "164           0.174154\n",
       "165           0.181300\n",
       "166           0.162057\n",
       "167           0.144639\n",
       "\n",
       "[168 rows x 1 columns]"
      ]
     },
     "execution_count": 35,
     "metadata": {},
     "output_type": "execute_result"
    }
   ],
   "source": [
    "grouped_by_hour"
   ]
  },
  {
   "cell_type": "code",
   "execution_count": 38,
   "id": "f0f38b4d",
   "metadata": {},
   "outputs": [
    {
     "ename": "NameError",
     "evalue": "name 'y_prediction_show' is not defined",
     "output_type": "error",
     "traceback": [
      "\u001b[0;31m---------------------------------------------------------------------------\u001b[0m",
      "\u001b[0;31mNameError\u001b[0m                                 Traceback (most recent call last)",
      "\u001b[0;32m/var/folders/hd/7mhwbm312jd2fp_tb35yjgvc0000gn/T/ipykernel_1195/477268037.py\u001b[0m in \u001b[0;36m<module>\u001b[0;34m\u001b[0m\n\u001b[1;32m     12\u001b[0m \u001b[0;31m#         y_average = grouped_by_hour[24*i:24*i+24]\u001b[0m\u001b[0;34m\u001b[0m\u001b[0;34m\u001b[0m\u001b[0m\n\u001b[1;32m     13\u001b[0m     \u001b[0mplt\u001b[0m\u001b[0;34m.\u001b[0m\u001b[0mplot\u001b[0m\u001b[0;34m(\u001b[0m\u001b[0mx\u001b[0m\u001b[0;34m,\u001b[0m \u001b[0my_true_show\u001b[0m\u001b[0;34m,\u001b[0m\u001b[0mlabel\u001b[0m\u001b[0;34m=\u001b[0m\u001b[0;34m\"true_value\"\u001b[0m\u001b[0;34m)\u001b[0m\u001b[0;34m\u001b[0m\u001b[0;34m\u001b[0m\u001b[0m\n\u001b[0;32m---> 14\u001b[0;31m     \u001b[0mplt\u001b[0m\u001b[0;34m.\u001b[0m\u001b[0mplot\u001b[0m\u001b[0;34m(\u001b[0m\u001b[0mx\u001b[0m\u001b[0;34m,\u001b[0m \u001b[0my_prediction_show\u001b[0m\u001b[0;34m,\u001b[0m\u001b[0mlabel\u001b[0m \u001b[0;34m=\u001b[0m \u001b[0;34m\"ARX\"\u001b[0m\u001b[0;34m)\u001b[0m\u001b[0;34m\u001b[0m\u001b[0;34m\u001b[0m\u001b[0m\n\u001b[0m\u001b[1;32m     15\u001b[0m \u001b[0;31m#     plt.plot(x, y_average,\"average\")\u001b[0m\u001b[0;34m\u001b[0m\u001b[0;34m\u001b[0m\u001b[0m\n\u001b[1;32m     16\u001b[0m     \u001b[0mplt\u001b[0m\u001b[0;34m.\u001b[0m\u001b[0mlegend\u001b[0m\u001b[0;34m(\u001b[0m\u001b[0;34m)\u001b[0m\u001b[0;34m\u001b[0m\u001b[0;34m\u001b[0m\u001b[0m\n",
      "\u001b[0;31mNameError\u001b[0m: name 'y_prediction_show' is not defined"
     ]
    },
    {
     "data": {
      "image/png": "[encoded data removed]",
      "text/plain": [
       "<Figure size 640x480 with 1 Axes>"
      ]
     },
     "metadata": {},
     "output_type": "display_data"
    }
   ],
   "source": [
    "for i in range(0,7):\n",
    "    plt.figure()\n",
    "    if i ==0:\n",
    "        x = [i for i in range(3,24)]\n",
    "        y_true_show = test_data[test_data['day_of_week'] == i]['normalized_energy']\n",
    "        y_ARX_prediction_show = test_data[test_data['day_of_week'] == i]['average_energy'] + test_data[test_data['day_of_week'] == i]['ARX_predict_value']\n",
    "        y_average = grouped_by_hour[3:24]\n",
    "    else:\n",
    "        x = [i for i in range(24)]\n",
    "        y_true_show = test_data[test_data['day_of_week'] == i]['normalized_energy']\n",
    "        y_ARX_prediction_show = test_data[test_data['day_of_week'] == i]['average_energy'] + test_data[test_data['day_of_week'] == i]['ARX_predict_value']\n",
    "        y_average = grouped_by_hour[24*i:24*i+24]\n",
    "    plt.plot(x, y_true_show,label=\"true_value\")\n",
    "    plt.plot(x, y_ARX_prediction_show,label = \"ARX\")\n",
    "    plt.plot(x, y_average,label=\"average\")\n",
    "    plt.legend()"
   ]
  },
  {
   "cell_type": "code",
   "execution_count": null,
   "id": "5a4a45f5",
   "metadata": {},
   "outputs": [],
   "source": []
  }
 ],
 "metadata": {
  "kernelspec": {
   "display_name": "Python 3 (ipykernel)",
   "language": "python",
   "name": "python3"
  },
  "language_info": {
   "codemirror_mode": {
    "name": "ipython",
    "version": 3
   },
   "file_extension": ".py",
   "mimetype": "text/x-python",
   "name": "python",
   "nbconvert_exporter": "python",
   "pygments_lexer": "ipython3",
   "version": "3.9.13"
  }
 },
 "nbformat": 4,
 "nbformat_minor": 5
}
