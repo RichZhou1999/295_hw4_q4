{
 "cells": [
  {
   "cell_type": "code",
   "execution_count": 7,
   "id": "4b0c153f",
   "metadata": {},
   "outputs": [],
   "source": [
    "import pandas as pd \n",
    "import matplotlib.pyplot as plt\n",
    "import numpy as np\n",
    "import datetime\n",
    "import torch\n",
    "import torch.nn as nn\n",
    "from torch.utils.data import TensorDataset, DataLoader"
   ]
  },
  {
   "cell_type": "code",
   "execution_count": 8,
   "id": "e9d2092c",
   "metadata": {},
   "outputs": [],
   "source": [
    "training_data = pd.read_csv(\"organized_data_training.csv\")"
   ]
  },
  {
   "cell_type": "code",
   "execution_count": 9,
   "id": "8dc2169d",
   "metadata": {},
   "outputs": [
    {
     "name": "stdout",
     "output_type": "stream",
     "text": [
      "        day_of_week  hour_of_day  normalized_energy  average_energy       t-3  \\\n",
      "0               6.0          3.0           0.234568        0.076454  0.114212   \n",
      "1               6.0          4.0           0.234568        0.072333  0.132798   \n",
      "2               6.0          5.0           0.234568        0.071824  0.148183   \n",
      "3               6.0          6.0           0.172840        0.077041  0.158114   \n",
      "4               6.0          7.0           0.160494        0.092937  0.162235   \n",
      "...             ...          ...                ...             ...       ...   \n",
      "196921          5.0         16.0           0.009524        0.122585 -0.110656   \n",
      "196922          5.0         17.0           0.006349        0.141208 -0.098425   \n",
      "196923          5.0         18.0           0.009524        0.138830 -0.097711   \n",
      "196924          5.0         19.0           0.006349        0.142863 -0.113061   \n",
      "196925          5.0         20.0           0.006349        0.149307 -0.134859   \n",
      "\n",
      "             t-2       t-1  true_value  \n",
      "0       0.132798  0.148183    0.158114  \n",
      "1       0.148183  0.158114    0.162235  \n",
      "2       0.158114  0.162235    0.162744  \n",
      "3       0.162235  0.162744    0.095798  \n",
      "4       0.162744  0.095798    0.067557  \n",
      "...          ...       ...         ...  \n",
      "196921 -0.098425 -0.097711   -0.113061  \n",
      "196922 -0.097711 -0.113061   -0.134859  \n",
      "196923 -0.113061 -0.134859   -0.129306  \n",
      "196924 -0.134859 -0.129306   -0.136513  \n",
      "196925 -0.129306 -0.136513   -0.142957  \n",
      "\n",
      "[196926 rows x 8 columns]\n"
     ]
    }
   ],
   "source": [
    "print(training_data)"
   ]
  },
  {
   "cell_type": "code",
   "execution_count": 10,
   "id": "c6d0297e",
   "metadata": {},
   "outputs": [],
   "source": [
    "class Net(nn.Module):\n",
    "    def __init__(self):\n",
    "        super(Net, self).__init__()\n",
    "        self.fc1 = nn.Linear(3, 1)   # input layer with 3 inputs and output layer with 1 output\n",
    "\n",
    "    def forward(self, x):\n",
    "        x = self.fc1(x)   # pass the input through the linear layer\n",
    "        x = torch.tanh(x)  # apply the tanh activation function to the output of the linear layer\n",
    "        return x"
   ]
  },
  {
   "cell_type": "code",
   "execution_count": 11,
   "id": "7dff4511",
   "metadata": {},
   "outputs": [],
   "source": [
    "net = Net()"
   ]
  },
  {
   "cell_type": "code",
   "execution_count": 12,
   "id": "36f14dfb",
   "metadata": {},
   "outputs": [],
   "source": [
    "training_data_array = training_data.values"
   ]
  },
  {
   "cell_type": "code",
   "execution_count": 13,
   "id": "bad26f3e",
   "metadata": {},
   "outputs": [],
   "source": [
    "train_x = training_data_array[:1000, 4:7]\n",
    "train_y = training_data_array[:1000,-1:]"
   ]
  },
  {
   "cell_type": "code",
   "execution_count": 14,
   "id": "ae0f4059",
   "metadata": {},
   "outputs": [
    {
     "data": {
      "text/plain": [
       "array([[ 0.1142123 ,  0.13279826,  0.14818289],\n",
       "       [ 0.13279826,  0.14818289,  0.15811366],\n",
       "       [ 0.14818289,  0.15811366,  0.16223509],\n",
       "       ...,\n",
       "       [-0.04102412, -0.05444847, -0.0918327 ],\n",
       "       [-0.05444847, -0.0918327 , -0.07749466],\n",
       "       [-0.0918327 , -0.07749466, -0.05805571]])"
      ]
     },
     "execution_count": 14,
     "metadata": {},
     "output_type": "execute_result"
    }
   ],
   "source": [
    "train_x"
   ]
  },
  {
   "cell_type": "code",
   "execution_count": 15,
   "id": "c8090d95",
   "metadata": {},
   "outputs": [],
   "source": [
    "train_x = torch.tensor(train_x, dtype=torch.float32)\n",
    "train_y = torch.tensor(train_y, dtype=torch.float32)"
   ]
  },
  {
   "cell_type": "code",
   "execution_count": 17,
   "id": "38e6c229",
   "metadata": {},
   "outputs": [],
   "source": [
    "dataset = TensorDataset(train_x, train_y)\n",
    "\n",
    "# create a PyTorch dataloader\n",
    "dataloader = DataLoader(dataset, batch_size=32, shuffle=True)"
   ]
  },
  {
   "cell_type": "code",
   "execution_count": null,
   "id": "5bd43f8e",
   "metadata": {},
   "outputs": [],
   "source": [
    "loss_fn = torch.nn.MSELoss()\n",
    "optimizer = torch.optim.SGD(net.parameters(), lr=0.01)"
   ]
  },
  {
   "cell_type": "code",
   "execution_count": 8,
   "id": "1e36200a",
   "metadata": {},
   "outputs": [],
   "source": [
    "test_data = pd.read_csv(\"HW4_Test_Data.csv\")"
   ]
  },
  {
   "cell_type": "code",
   "execution_count": 9,
   "id": "fc5fdfd9",
   "metadata": {},
   "outputs": [
    {
     "data": {
      "text/html": [
       "<div>\n",
       "<style scoped>\n",
       "    .dataframe tbody tr th:only-of-type {\n",
       "        vertical-align: middle;\n",
       "    }\n",
       "\n",
       "    .dataframe tbody tr th {\n",
       "        vertical-align: top;\n",
       "    }\n",
       "\n",
       "    .dataframe thead th {\n",
       "        text-align: right;\n",
       "    }\n",
       "</style>\n",
       "<table border=\"1\" class=\"dataframe\">\n",
       "  <thead>\n",
       "    <tr style=\"text-align: right;\">\n",
       "      <th></th>\n",
       "      <th>TestTime</th>\n",
       "      <th>TestBldg</th>\n",
       "    </tr>\n",
       "  </thead>\n",
       "  <tbody>\n",
       "    <tr>\n",
       "      <th>0</th>\n",
       "      <td>9/7/14 00:00</td>\n",
       "      <td>0.094276</td>\n",
       "    </tr>\n",
       "    <tr>\n",
       "      <th>1</th>\n",
       "      <td>9/7/14 01:00</td>\n",
       "      <td>0.037037</td>\n",
       "    </tr>\n",
       "    <tr>\n",
       "      <th>2</th>\n",
       "      <td>9/7/14 02:00</td>\n",
       "      <td>0.040404</td>\n",
       "    </tr>\n",
       "    <tr>\n",
       "      <th>3</th>\n",
       "      <td>9/7/14 03:00</td>\n",
       "      <td>0.037037</td>\n",
       "    </tr>\n",
       "    <tr>\n",
       "      <th>4</th>\n",
       "      <td>9/7/14 04:00</td>\n",
       "      <td>0.037037</td>\n",
       "    </tr>\n",
       "    <tr>\n",
       "      <th>...</th>\n",
       "      <td>...</td>\n",
       "      <td>...</td>\n",
       "    </tr>\n",
       "    <tr>\n",
       "      <th>163</th>\n",
       "      <td>9/13/14 19:00</td>\n",
       "      <td>0.164983</td>\n",
       "    </tr>\n",
       "    <tr>\n",
       "      <th>164</th>\n",
       "      <td>9/13/14 20:00</td>\n",
       "      <td>0.235690</td>\n",
       "    </tr>\n",
       "    <tr>\n",
       "      <th>165</th>\n",
       "      <td>9/13/14 21:00</td>\n",
       "      <td>0.185185</td>\n",
       "    </tr>\n",
       "    <tr>\n",
       "      <th>166</th>\n",
       "      <td>9/13/14 22:00</td>\n",
       "      <td>0.168350</td>\n",
       "    </tr>\n",
       "    <tr>\n",
       "      <th>167</th>\n",
       "      <td>9/13/14 23:00</td>\n",
       "      <td>0.121212</td>\n",
       "    </tr>\n",
       "  </tbody>\n",
       "</table>\n",
       "<p>168 rows × 2 columns</p>\n",
       "</div>"
      ],
      "text/plain": [
       "          TestTime  TestBldg\n",
       "0     9/7/14 00:00  0.094276\n",
       "1     9/7/14 01:00  0.037037\n",
       "2     9/7/14 02:00  0.040404\n",
       "3     9/7/14 03:00  0.037037\n",
       "4     9/7/14 04:00  0.037037\n",
       "..             ...       ...\n",
       "163  9/13/14 19:00  0.164983\n",
       "164  9/13/14 20:00  0.235690\n",
       "165  9/13/14 21:00  0.185185\n",
       "166  9/13/14 22:00  0.168350\n",
       "167  9/13/14 23:00  0.121212\n",
       "\n",
       "[168 rows x 2 columns]"
      ]
     },
     "execution_count": 9,
     "metadata": {},
     "output_type": "execute_result"
    }
   ],
   "source": [
    "test_data"
   ]
  },
  {
   "cell_type": "code",
   "execution_count": 14,
   "id": "66bf7c55",
   "metadata": {},
   "outputs": [],
   "source": [
    "size = len(test_data)\n",
    "random_data = np.random.rand(size, 3)\n",
    "time_splited_data = pd.DataFrame(random_data, columns=[ 'day_of_week', 'hour_of_day',\"normalized_energy\"])\n",
    "for i in range(len(test_data)):\n",
    "    temp = test_data.loc[i]\n",
    "    date_string = temp[\"TestTime\"]\n",
    "    date_obj = datetime.datetime.strptime(date_string, '%m/%d/%y %H:%M')\n",
    "    day_of_week = date_obj.weekday()\n",
    "    hour_of_day = date_obj.hour\n",
    "    value = test_data.loc[i,\"TestBldg\"]\n",
    "    time_splited_data.loc[i] = [day_of_week,hour_of_day, value ]"
   ]
  },
  {
   "cell_type": "code",
   "execution_count": 15,
   "id": "5c1888c7",
   "metadata": {},
   "outputs": [],
   "source": [
    "sorted_time_splited_data = time_splited_data.sort_values(by=['day_of_week', 'hour_of_day'], ascending=[True,True])"
   ]
  },
  {
   "cell_type": "code",
   "execution_count": 16,
   "id": "5f4f9a79",
   "metadata": {},
   "outputs": [
    {
     "data": {
      "text/html": [
       "<div>\n",
       "<style scoped>\n",
       "    .dataframe tbody tr th:only-of-type {\n",
       "        vertical-align: middle;\n",
       "    }\n",
       "\n",
       "    .dataframe tbody tr th {\n",
       "        vertical-align: top;\n",
       "    }\n",
       "\n",
       "    .dataframe thead th {\n",
       "        text-align: right;\n",
       "    }\n",
       "</style>\n",
       "<table border=\"1\" class=\"dataframe\">\n",
       "  <thead>\n",
       "    <tr style=\"text-align: right;\">\n",
       "      <th></th>\n",
       "      <th>day_of_week</th>\n",
       "      <th>hour_of_day</th>\n",
       "      <th>normalized_energy</th>\n",
       "    </tr>\n",
       "  </thead>\n",
       "  <tbody>\n",
       "    <tr>\n",
       "      <th>0</th>\n",
       "      <td>0.0</td>\n",
       "      <td>0.0</td>\n",
       "      <td>0.188552</td>\n",
       "    </tr>\n",
       "    <tr>\n",
       "      <th>1</th>\n",
       "      <td>0.0</td>\n",
       "      <td>1.0</td>\n",
       "      <td>0.084175</td>\n",
       "    </tr>\n",
       "    <tr>\n",
       "      <th>2</th>\n",
       "      <td>0.0</td>\n",
       "      <td>2.0</td>\n",
       "      <td>0.057239</td>\n",
       "    </tr>\n",
       "    <tr>\n",
       "      <th>3</th>\n",
       "      <td>0.0</td>\n",
       "      <td>3.0</td>\n",
       "      <td>0.040404</td>\n",
       "    </tr>\n",
       "    <tr>\n",
       "      <th>4</th>\n",
       "      <td>0.0</td>\n",
       "      <td>4.0</td>\n",
       "      <td>0.040404</td>\n",
       "    </tr>\n",
       "    <tr>\n",
       "      <th>...</th>\n",
       "      <td>...</td>\n",
       "      <td>...</td>\n",
       "      <td>...</td>\n",
       "    </tr>\n",
       "    <tr>\n",
       "      <th>163</th>\n",
       "      <td>6.0</td>\n",
       "      <td>19.0</td>\n",
       "      <td>0.094276</td>\n",
       "    </tr>\n",
       "    <tr>\n",
       "      <th>164</th>\n",
       "      <td>6.0</td>\n",
       "      <td>20.0</td>\n",
       "      <td>0.151515</td>\n",
       "    </tr>\n",
       "    <tr>\n",
       "      <th>165</th>\n",
       "      <td>6.0</td>\n",
       "      <td>21.0</td>\n",
       "      <td>0.175084</td>\n",
       "    </tr>\n",
       "    <tr>\n",
       "      <th>166</th>\n",
       "      <td>6.0</td>\n",
       "      <td>22.0</td>\n",
       "      <td>0.151515</td>\n",
       "    </tr>\n",
       "    <tr>\n",
       "      <th>167</th>\n",
       "      <td>6.0</td>\n",
       "      <td>23.0</td>\n",
       "      <td>0.387205</td>\n",
       "    </tr>\n",
       "  </tbody>\n",
       "</table>\n",
       "<p>168 rows × 3 columns</p>\n",
       "</div>"
      ],
      "text/plain": [
       "     day_of_week  hour_of_day  normalized_energy\n",
       "0            0.0          0.0           0.188552\n",
       "1            0.0          1.0           0.084175\n",
       "2            0.0          2.0           0.057239\n",
       "3            0.0          3.0           0.040404\n",
       "4            0.0          4.0           0.040404\n",
       "..           ...          ...                ...\n",
       "163          6.0         19.0           0.094276\n",
       "164          6.0         20.0           0.151515\n",
       "165          6.0         21.0           0.175084\n",
       "166          6.0         22.0           0.151515\n",
       "167          6.0         23.0           0.387205\n",
       "\n",
       "[168 rows x 3 columns]"
      ]
     },
     "execution_count": 16,
     "metadata": {},
     "output_type": "execute_result"
    }
   ],
   "source": [
    "sorted_time_splited_data = sorted_time_splited_data.reset_index(drop=True)\n",
    "sorted_time_splited_data"
   ]
  },
  {
   "cell_type": "code",
   "execution_count": null,
   "id": "0cf2d4c2",
   "metadata": {},
   "outputs": [],
   "source": []
  }
 ],
 "metadata": {
  "kernelspec": {
   "display_name": "Python 3 (ipykernel)",
   "language": "python",
   "name": "python3"
  },
  "language_info": {
   "codemirror_mode": {
    "name": "ipython",
    "version": 3
   },
   "file_extension": ".py",
   "mimetype": "text/x-python",
   "name": "python",
   "nbconvert_exporter": "python",
   "pygments_lexer": "ipython3",
   "version": "3.9.13"
  }
 },
 "nbformat": 4,
 "nbformat_minor": 5
}
